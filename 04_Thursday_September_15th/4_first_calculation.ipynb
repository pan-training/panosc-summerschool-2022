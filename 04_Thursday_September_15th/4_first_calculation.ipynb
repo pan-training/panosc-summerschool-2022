{
 "cells": [
  {
   "cell_type": "markdown",
   "metadata": {},
   "source": [
    "# A first multiplet calculation in the Jupyter Notebook"
   ]
  },
  {
   "cell_type": "code",
   "execution_count": null,
   "metadata": {},
   "outputs": [],
   "source": [
    "from crispy.notebook import Calculation, Config"
   ]
  },
  {
   "cell_type": "markdown",
   "metadata": {},
   "source": [
    "## Update the settings"
   ]
  },
  {
   "cell_type": "code",
   "execution_count": null,
   "metadata": {},
   "outputs": [],
   "source": [
    "config = Config()\n",
    "config.set_setting(\"Shift Spectra\", True)\n",
    "config.set_setting(\"Remove Files\", False)"
   ]
  },
  {
   "cell_type": "markdown",
   "metadata": {},
   "source": [
    "## Create the calculation instance\n",
    "\n",
    "To create a new calculation object you need to specify the element, charge, experiment, and edge. You can print information about the calculations by simply executing it in a cell."
   ]
  },
  {
   "cell_type": "code",
   "execution_count": null,
   "metadata": {},
   "outputs": [],
   "source": [
    "calc = Calculation(\"Ni2+\", \"Oh\", \"XAS\", \"L2,3 (2p)\")\n",
    "calc"
   ]
  },
  {
   "cell_type": "markdown",
   "metadata": {},
   "source": [
    "## Select the spectra that you want to calculate"
   ]
  },
  {
   "cell_type": "code",
   "execution_count": null,
   "metadata": {},
   "outputs": [],
   "source": [
    "calc.spectra"
   ]
  },
  {
   "cell_type": "code",
   "execution_count": null,
   "metadata": {},
   "outputs": [],
   "source": [
    "calc.spectra.enable(\"Circular Dichroic\")"
   ]
  },
  {
   "cell_type": "code",
   "execution_count": null,
   "metadata": {},
   "outputs": [],
   "source": [
    "calc.spectra"
   ]
  },
  {
   "cell_type": "markdown",
   "metadata": {},
   "source": [
    "## Change the calculation parameters\n",
    "\n",
    "This can be the general parameters of the calculation (temperature, magnetic field, etc.), the axis parameters (broadening, number of points), or the Hamiltonian parameters (scale factors for Slater integrals, the number of states from the initial Hamiltonian that will contribute to the final spectra)."
   ]
  },
  {
   "cell_type": "code",
   "execution_count": null,
   "metadata": {},
   "outputs": [],
   "source": [
    "calc.set_parameter(\"Magnetic Field\", 6.5)\n",
    "calc"
   ]
  },
  {
   "cell_type": "code",
   "execution_count": null,
   "metadata": {},
   "outputs": [],
   "source": [
    "calc.xaxis.set_parameter(\"Gaussian\", 0.24)\n",
    "calc.xaxis.set_parameter(\"Lorentzian\", 1.0)\n",
    "calc.xaxis"
   ]
  },
  {
   "cell_type": "code",
   "execution_count": null,
   "metadata": {
    "scrolled": false
   },
   "outputs": [],
   "source": [
    "parameters = [(\"Fk\", 0.7), (\"Gk\", 0.7), (\"10Dq(3d)\", 2.8), (\"Number of States\", 3)]\n",
    "for name, value in parameters:\n",
    "    calc.hamiltonian.set_parameter(name, value)\n",
    "calc.hamiltonian"
   ]
  },
  {
   "cell_type": "markdown",
   "metadata": {},
   "source": [
    "## Print the input file\n",
    "\n",
    "Now that all is set up, you can have a look at the calculation input file."
   ]
  },
  {
   "cell_type": "code",
   "execution_count": null,
   "metadata": {
    "scrolled": true
   },
   "outputs": [],
   "source": [
    "print(calc.get_input())"
   ]
  },
  {
   "cell_type": "markdown",
   "metadata": {},
   "source": [
    "## Run the calculation and print the output after the calculation finishes"
   ]
  },
  {
   "cell_type": "code",
   "execution_count": null,
   "metadata": {},
   "outputs": [],
   "source": [
    "calc.run()\n",
    "\n",
    "print(calc.get_output())"
   ]
  },
  {
   "cell_type": "markdown",
   "metadata": {},
   "source": [
    "## Plot the calculated spectra"
   ]
  },
  {
   "cell_type": "code",
   "execution_count": null,
   "metadata": {},
   "outputs": [],
   "source": [
    "%matplotlib ipympl\n",
    "import matplotlib.pyplot as plt\n",
    "\n",
    "fig, ax = plt.subplots(figsize=(7, 4.3))\n",
    "\n",
    "calc.spectra.plot(ax=ax)\n",
    "\n",
    "ax.legend()\n",
    "ax.set_xlabel(\"Absorption Energy (eV)\")\n",
    "ax.set_ylabel(\"Intensity (a.u.)\")\n",
    "plt.tight_layout()"
   ]
  }
 ],
 "metadata": {
  "interpreter": {
   "hash": "5a85f61b8ae62f4b44571b51961963a572e0a58f0f8535c7248dcfe2dafd3c78"
  },
  "kernelspec": {
   "display_name": "Python 3 (ipykernel)",
   "language": "python",
   "name": "python3"
  },
  "language_info": {
   "codemirror_mode": {
    "name": "ipython",
    "version": 3
   },
   "file_extension": ".py",
   "mimetype": "text/x-python",
   "name": "python",
   "nbconvert_exporter": "python",
   "pygments_lexer": "ipython3",
   "version": "3.9.14"
  }
 },
 "nbformat": 4,
 "nbformat_minor": 4
}
