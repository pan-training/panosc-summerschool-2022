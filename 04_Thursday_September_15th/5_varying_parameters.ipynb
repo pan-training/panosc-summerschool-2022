{
 "cells": [
  {
   "cell_type": "markdown",
   "id": "05556ea3",
   "metadata": {},
   "source": [
    "# Exploring the parameter space\n",
    "\n",
    "Semi-empirical multiplets use a parametrized Hamiltonian to calculate the spectrum. One significant advantage of doing such calculations in a Jupyter notebook is that you can easily explore the parameter space and see how it will affect the spectrum.\n",
    "\n",
    "In this exercise, you will change the crystal field strength of an octahedrally coordinated iron complex."
   ]
  },
  {
   "cell_type": "markdown",
   "id": "4b4a5c95",
   "metadata": {},
   "source": [
    "## Import the required packages, setup logging, and save the current working directory"
   ]
  },
  {
   "cell_type": "code",
   "execution_count": null,
   "id": "ab548e92",
   "metadata": {},
   "outputs": [],
   "source": [
    "%matplotlib ipympl\n",
    "\n",
    "import os\n",
    "import sys\n",
    "import logging\n",
    "\n",
    "import numpy as np\n",
    "import matplotlib.pyplot as plt\n",
    "\n",
    "from crispy.notebook import Calculation\n",
    "\n",
    "\n",
    "logging.basicConfig(level=logging.INFO, stream=sys.stdout)\n",
    "logging.getLogger(\"crispy\").setLevel(logging.INFO)\n",
    "\n",
    "swd = os.getcwd()"
   ]
  },
  {
   "cell_type": "markdown",
   "id": "8f423bad",
   "metadata": {},
   "source": [
    "## Set up the calculation and loop over the crystal field parameter"
   ]
  },
  {
   "cell_type": "code",
   "execution_count": null,
   "id": "54a47318",
   "metadata": {},
   "outputs": [],
   "source": [
    "calc = Calculation(\"Fe3+\", \"Oh\", \"XAS\", \"K (1s)\")"
   ]
  },
  {
   "cell_type": "code",
   "execution_count": null,
   "id": "122eeaf6",
   "metadata": {},
   "outputs": [],
   "source": [
    "fig, ax = plt.subplots(figsize=(7, 4.3))\n",
    "\n",
    "\n",
    "header = []\n",
    "results = []\n",
    "\n",
    "tendqs = np.linspace(0, 3.6, 4)\n",
    "\n",
    "for tendq in tendqs:\n",
    "    \n",
    "    # Set the 10Dq value.\n",
    "    calc.hamiltonian.set_parameter(\"10Dq(3d)\", tendq)\n",
    "    \n",
    "    # Run the calculation.\n",
    "    calc.run()\n",
    "    \n",
    "    # Extract the isotropic spectrum from the calculated data.\n",
    "    data = calc.spectra.get_calculated_data()\n",
    "    data = data[\"Isotropic Absorption\"]\n",
    "    x, signal = data[\"x\"], data[\"signal\"]\n",
    "    \n",
    "    # Plot the isotropic spectrum.\n",
    "    ax.plot(x, signal, label = f\"{tendq:.2f} eV\")\n",
    "    \n",
    "    # Append the calculated isotropic spectrum to results.\n",
    "    header.append(f\"x and signal for 10Dq = {tendq}\")\n",
    "    results.extend([x, signal])\n",
    "\n",
    "ax.legend()\n",
    "\n",
    "ax.set_xlabel(\"Absorption Energy (eV)\")\n",
    "ax.set_ylabel(\"Intensity (a.u.)\")\n",
    "ax.set_title(\"Influence of the crystal field splitting (10Dq)\")\n",
    "\n",
    "plt.tight_layout()    "
   ]
  },
  {
   "cell_type": "code",
   "execution_count": null,
   "id": "51d35d4d",
   "metadata": {},
   "outputs": [],
   "source": [
    "!pwd"
   ]
  },
  {
   "cell_type": "markdown",
   "id": "2a3a9d9c",
   "metadata": {},
   "source": [
    "## Save the calculate spectra to file"
   ]
  },
  {
   "cell_type": "code",
   "execution_count": null,
   "id": "daf4c23d",
   "metadata": {},
   "outputs": [],
   "source": [
    "os.chdir(swd)\n",
    "np.savetxt(fname=\"5_results.dat\", X=np.array(results).T, header=\", \".join(header))\n",
    "!ls"
   ]
  }
 ],
 "metadata": {
  "kernelspec": {
   "display_name": "Python 3 (ipykernel)",
   "language": "python",
   "name": "python3"
  },
  "language_info": {
   "codemirror_mode": {
    "name": "ipython",
    "version": 3
   },
   "file_extension": ".py",
   "mimetype": "text/x-python",
   "name": "python",
   "nbconvert_exporter": "python",
   "pygments_lexer": "ipython3",
   "version": "3.9.14"
  }
 },
 "nbformat": 4,
 "nbformat_minor": 5
}
