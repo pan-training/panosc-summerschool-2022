{
 "cells": [
  {
   "cell_type": "markdown",
   "id": "6144b168",
   "metadata": {},
   "source": [
    "# Crystal field and covalency effects in uranates \n",
    "\n",
    "It has been demostrated recently that high-energy resolution fluorescence-detection X-ray absorption spectroscopy (HERFD-XAS) technique can be used to directly probe the crystal-field splitting in the 5f shell of actinides. In addition, the HERFD-XAS technique allows us to resolve the charge-transfer satellites in actinide spectra that were hidden before, thus enhancing the sensitivity to the covalent character of the chemical bonding.\n",
    "\n",
    "<figure>\n",
    "  <img src=\"assets/uranates_covalency.png\" alt=\"Uranates covalency\" style=\"width:35%\">\n",
    "  <figcaption style=\"text-align: center; font-style: italic\">1 S.M. Butorin et al., Chemistry - A European Journal 22, 9693 (2016).\n",
    "</figcaption>\n",
    "</figure>\n",
    "\n",
    "In this exercise, you will calculated the absorption spectra of an U(V) ion in octahedral coordination using various levels of approximation in the Hamiltonian.\n",
    "\n",
    "<figure>\n",
    "  <img src=\"assets/uranates_hamiltonian.png\" alt=\"Hamiltonian in uranates\" style=\"width:45%\">\n",
    "</figure>"
   ]
  },
  {
   "cell_type": "markdown",
   "id": "4792e0ff",
   "metadata": {},
   "source": [
    "## Import the required packages and setup logging"
   ]
  },
  {
   "cell_type": "code",
   "execution_count": null,
   "id": "81afc4a4",
   "metadata": {},
   "outputs": [],
   "source": [
    "%matplotlib ipympl\n",
    "\n",
    "import os\n",
    "import sys\n",
    "import logging\n",
    "\n",
    "import numpy as np\n",
    "import matplotlib.pyplot as plt\n",
    "\n",
    "from crispy.notebook import Calculation\n",
    "\n",
    "logging.basicConfig(level=logging.INFO, stream=sys.stdout)\n",
    "logging.getLogger(\"crispy\").setLevel(logging.INFO)"
   ]
  },
  {
   "cell_type": "markdown",
   "id": "e218e7ea",
   "metadata": {},
   "source": [
    "## Setup the calculation"
   ]
  },
  {
   "cell_type": "code",
   "execution_count": null,
   "id": "ea02e9d6",
   "metadata": {},
   "outputs": [],
   "source": [
    "calc = Calculation(\"U5+\", \"Oh\", \"XAS\", \"M4,5 (3d)\")\n",
    "\n",
    "calc.xaxis.set_parameter(\"Lorentzian\", 0.35)\n",
    "calc.xaxis.set_parameter(\"Gaussian\", 0.8)\n",
    "calc.xaxis.set_parameter(\"Stop\", 3750)\n",
    "calc.xaxis.set_parameter(\"Start\", 3725)\n",
    "\n",
    "calc.hamiltonian.set_parameter(\"Fk\", 0.7)\n",
    "calc.hamiltonian.set_parameter(\"Gk\", 0.7)\n",
    "\n",
    "calc.xaxis"
   ]
  },
  {
   "cell_type": "markdown",
   "id": "019ca92a",
   "metadata": {},
   "source": [
    "## Create an empty dictionary to save the calculated spectra"
   ]
  },
  {
   "cell_type": "code",
   "execution_count": null,
   "id": "c8c105f8",
   "metadata": {},
   "outputs": [],
   "source": [
    "results = {}"
   ]
  },
  {
   "cell_type": "markdown",
   "id": "2e5d1feb",
   "metadata": {},
   "source": [
    "## Calculate the atomic spectrum"
   ]
  },
  {
   "cell_type": "code",
   "execution_count": null,
   "id": "fd12dea1",
   "metadata": {},
   "outputs": [],
   "source": [
    "calc.hamiltonian.terms"
   ]
  },
  {
   "cell_type": "code",
   "execution_count": null,
   "id": "49679bec",
   "metadata": {},
   "outputs": [],
   "source": [
    "calc.hamiltonian.terms.disable(\"Crystal Field\")"
   ]
  },
  {
   "cell_type": "code",
   "execution_count": null,
   "id": "3abbe8d8",
   "metadata": {},
   "outputs": [],
   "source": [
    "calc.hamiltonian.terms"
   ]
  },
  {
   "cell_type": "code",
   "execution_count": null,
   "id": "44ebf61b",
   "metadata": {},
   "outputs": [],
   "source": [
    "calc.run()"
   ]
  },
  {
   "cell_type": "code",
   "execution_count": null,
   "id": "3c37cfb8",
   "metadata": {},
   "outputs": [],
   "source": [
    "data = calc.spectra.get_calculated_data()\n",
    "x = data[\"Isotropic Absorption\"][\"x\"] \n",
    "signal = data[\"Isotropic Absorption\"][\"signal\"]\n",
    "results[\"Atomic\"] = (x, signal)"
   ]
  },
  {
   "cell_type": "markdown",
   "id": "5c0ae736",
   "metadata": {},
   "source": [
    "## Calculate the crystal field spectrum\n",
    "\n",
    "The crystal field splitting can be expressed using the Wybourne’s parameters, $B_{40}$ and $B_{60}$. The energy of the f-orbitals is then equal to:\n",
    "\n",
    "$E_{a2u} = -\\frac{4}{11} B_{40} + \\frac{80}{143} B_{60}$\n",
    "\n",
    "$E_{t1u} = \\frac{2}{11} B_{40} + \\frac{100}{429} B_{60}$\n",
    "\n",
    "$E_{t2u} = -\\frac{2}{33} B_{40} - \\frac{60}{143} B_{60}$"
   ]
  },
  {
   "cell_type": "code",
   "execution_count": null,
   "id": "0e5a8118",
   "metadata": {},
   "outputs": [],
   "source": [
    "B40 = 2.03\n",
    "B60 = 0.17\n",
    "\n",
    "Ea2u = -4 / 11 * B40 +  80 / 143 * B60\n",
    "Et1u =  2 / 11 * B40 + 100 / 429 * B60\n",
    "Et2u = -2 / 33 * B40 -  60 / 143 * B60\n",
    "\n",
    "calc.hamiltonian.set_parameter(\"Ea2u(5f)\", Ea2u)\n",
    "calc.hamiltonian.set_parameter(\"Et1u(5f)\", Et1u)\n",
    "calc.hamiltonian.set_parameter(\"Et2u(5f)\", Et2u)\n",
    "\n",
    "calc.hamiltonian.terms.enable(\"Crystal Field\")"
   ]
  },
  {
   "cell_type": "code",
   "execution_count": null,
   "id": "6683e0d9",
   "metadata": {},
   "outputs": [],
   "source": [
    "calc.run()"
   ]
  },
  {
   "cell_type": "code",
   "execution_count": null,
   "id": "3da79992",
   "metadata": {},
   "outputs": [],
   "source": [
    "data = calc.spectra.get_calculated_data()\n",
    "x = data[\"Isotropic Absorption\"][\"x\"] \n",
    "signal = data[\"Isotropic Absorption\"][\"signal\"]\n",
    "results[\"Crystal field\"] = (x, signal)"
   ]
  },
  {
   "cell_type": "markdown",
   "id": "69f32c02",
   "metadata": {},
   "source": [
    "## Calculate the ligand field spectrum"
   ]
  },
  {
   "cell_type": "code",
   "execution_count": null,
   "id": "1cc22e93",
   "metadata": {
    "scrolled": true
   },
   "outputs": [],
   "source": [
    "calc.hamiltonian.set_parameter(\"Δ(5f,L1)\", 4.0)\n",
    "calc.hamiltonian.set_parameter(\"U(5f,5f)\", 3.5)\n",
    "calc.hamiltonian.set_parameter(\"U(3d,5f)\", 6.0)\n",
    "\n",
    "calc.hamiltonian.set_parameter(\"Va2u(5f,L1)\", 1.2, hamiltonian_name=\"Initial Hamiltonian\")\n",
    "calc.hamiltonian.set_parameter(\"Vt1u(5f,L1)\", 1.2, hamiltonian_name=\"Initial Hamiltonian\")\n",
    "calc.hamiltonian.set_parameter(\"Vt2u(5f,L1)\", 1.2, hamiltonian_name=\"Initial Hamiltonian\")\n",
    "\n",
    "calc.hamiltonian.set_parameter(\"Va2u(5f,L1)\", 0.9, hamiltonian_name=\"Final Hamiltonian\")\n",
    "calc.hamiltonian.set_parameter(\"Vt1u(5f,L1)\", 0.9, hamiltonian_name=\"Final Hamiltonian\")\n",
    "calc.hamiltonian.set_parameter(\"Vt2u(5f,L1)\", 0.9, hamiltonian_name=\"Final Hamiltonian\")\n",
    "\n",
    "calc.hamiltonian.terms.enable(\"5f-Ligands Hybridization (LMCT)\")\n",
    "\n",
    "calc.hamiltonian"
   ]
  },
  {
   "cell_type": "code",
   "execution_count": null,
   "id": "2b763947",
   "metadata": {},
   "outputs": [],
   "source": [
    "calc.run()"
   ]
  },
  {
   "cell_type": "code",
   "execution_count": null,
   "id": "47af8071",
   "metadata": {},
   "outputs": [],
   "source": [
    "data = calc.spectra.get_calculated_data()\n",
    "x = data[\"Isotropic Absorption\"][\"x\"] \n",
    "signal = data[\"Isotropic Absorption\"][\"signal\"]\n",
    "results[\"Ligand field\"] = (x, signal)"
   ]
  },
  {
   "cell_type": "markdown",
   "id": "a327b011",
   "metadata": {},
   "source": [
    "## Plot the calculated spectra"
   ]
  },
  {
   "cell_type": "code",
   "execution_count": null,
   "id": "d46bd605",
   "metadata": {},
   "outputs": [],
   "source": [
    "fig, ax = plt.subplots(figsize=(7, 4.3))\n",
    "\n",
    "for name, (x, signal) in results.items():\n",
    "    ax.plot(x, signal, label=name)\n",
    "\n",
    "ax.legend()\n",
    "ax.grid()\n",
    "ax.set_xlabel(\"Absorption Energy (eV)\")\n",
    "ax.set_ylabel(\"Intensity (a.u.)\")\n",
    "plt.tight_layout()"
   ]
  },
  {
   "cell_type": "code",
   "execution_count": null,
   "id": "bd68ecd7",
   "metadata": {},
   "outputs": [],
   "source": [
    "print(calc.get_output())"
   ]
  }
 ],
 "metadata": {
  "kernelspec": {
   "display_name": "Python 3 (ipykernel)",
   "language": "python",
   "name": "python3"
  },
  "language_info": {
   "codemirror_mode": {
    "name": "ipython",
    "version": 3
   },
   "file_extension": ".py",
   "mimetype": "text/x-python",
   "name": "python",
   "nbconvert_exporter": "python",
   "pygments_lexer": "ipython3",
   "version": "3.9.14"
  },
  "vscode": {
   "interpreter": {
    "hash": "5c9bf53eb292b7eb3096606b550d2614b7a7869ac2a226817363709a47dc75e3"
   }
  }
 },
 "nbformat": 4,
 "nbformat_minor": 5
}
