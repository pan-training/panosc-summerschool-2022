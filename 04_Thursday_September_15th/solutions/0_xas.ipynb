{
 "cells": [
  {
   "cell_type": "markdown",
   "id": "34a8c5f2",
   "metadata": {},
   "source": [
    "# X-ray absorption spectroscopy (XAS)\n",
    "\n",
    "In this exercise, you will use X-ray absorption data measured on Cr<sub>2</sub>O<sub>3</sub>. You will explore different aspects that need to be considered when performing data reduction for simple XAS measurements:  \n",
    "- Locate the experimental files on disk.\n",
    "- Visualize the contents of the files.\n",
    "- Find the indices of the scans and the counters for the x-axis, signal, and monitor.\n",
    "- Explore the different ways to aggregate the scans, sum of fractions, or fraction of sums.\n",
    "- Explore the different ways to normalize the reduced signal: maximum or area.\n",
    "\n",
    "<figure>\n",
    "  <img src=\"assets/xas.png\" alt=\"XAS\" style=\"width:60%\">\n",
    "  <figcaption style=\"text-align: center; font-style: italic\">J.K. Kowalska et al., Israel Journal of Chemistry 56, 803 (2016).</figcaption>\n",
    "</figure>"
   ]
  },
  {
   "cell_type": "markdown",
   "id": "5429f62f",
   "metadata": {},
   "source": [
    "## Import the required packages"
   ]
  },
  {
   "cell_type": "code",
   "execution_count": null,
   "id": "76534ca2",
   "metadata": {},
   "outputs": [],
   "source": [
    "%matplotlib ipympl\n",
    "\n",
    "import sys\n",
    "import logging\n",
    "\n",
    "import numpy as np\n",
    "import matplotlib.pyplot as plt\n",
    "import silx.io.h5py_utils\n",
    "\n",
    "plt.rcParams[\"figure.figsize\"] = (6, 3.4)"
   ]
  },
  {
   "cell_type": "markdown",
   "id": "f80778c4",
   "metadata": {},
   "source": [
    "## Locate the experimental data on disk\n",
    "\n",
    "You can do this using operating system commands (note that you must prefix them with `!`). If you are using JupyterHub, you can alternatively use the file explorer on the left-hand side.\n",
    "    \n",
    "The data file for this exercise is `experimental_data/ihch1515/id26/Cr2O3_new/Cr2O3_new_0002/Cr2O3_new_0002.h5`. Navigate to it and open it using the `h5web` plugin, which allows basic plotting of the HDF5 items."
   ]
  },
  {
   "cell_type": "code",
   "execution_count": null,
   "id": "b398208d",
   "metadata": {},
   "outputs": [],
   "source": [
    "!ls experimental_data"
   ]
  },
  {
   "cell_type": "markdown",
   "id": "e18231ae-bc07-42e5-90c9-fe589ad3624b",
   "metadata": {},
   "source": [
    "## Exploring and accessing the data using the `silx` library\n",
    "\n",
    "You can use the `io` module of the `silx` library to access data stored in the HDF5 file. Compared to the more widely used `h5py` library, it allows you to open files while they are written."
   ]
  },
  {
   "cell_type": "code",
   "execution_count": null,
   "id": "876c32b8-25ef-4a40-bb02-af59a351c72f",
   "metadata": {},
   "outputs": [],
   "source": [
    "filename = \"experimental_data/ihch1515/id26/Cr2O3_new/Cr2O3_new_0002/Cr2O3_new_0002.h5\"\n",
    "\n",
    "with silx.io.h5py_utils.File(filename) as sf:\n",
    "    print(sf.keys())"
   ]
  },
  {
   "cell_type": "markdown",
   "id": "555e29b0-8436-45e6-9b88-03f8eb831a5c",
   "metadata": {},
   "source": [
    "Explore in more detail the components of the group using Python control flow statements."
   ]
  },
  {
   "cell_type": "code",
   "execution_count": null,
   "id": "77b6607e-b5cd-4551-89ed-f243b234209a",
   "metadata": {},
   "outputs": [],
   "source": [
    "with silx.io.h5py_utils.File(filename) as sf:\n",
    "    group = sf[\"4.1\"]\n",
    "    for name in group:\n",
    "        item = group[name]\n",
    "        print(f\"Found item {name}.\")\n",
    "        if silx.io.is_dataset(item):\n",
    "            print(f\"{name} is a dataset.\")\n",
    "        elif silx.io.is_group(item):\n",
    "            print(f\"{name} is group.\")"
   ]
  },
  {
   "cell_type": "markdown",
   "id": "57dc8513-b0f2-4a72-a3ba-59cbf50666b4",
   "metadata": {},
   "source": [
    "To extract the data stored at a give path in the HDF5 file use the `sf[\"path_to_data\"][()]` construct."
   ]
  },
  {
   "cell_type": "code",
   "execution_count": null,
   "id": "be0de11c-6ea7-4749-a9b1-f47d3c59763f",
   "metadata": {},
   "outputs": [],
   "source": [
    "with silx.io.h5py_utils.File(filename) as sf:\n",
    "    print(sf[\"4.1/title\"][()])"
   ]
  },
  {
   "cell_type": "markdown",
   "id": "60798d31-2eab-49de-b8e9-1304e05b5b47",
   "metadata": {},
   "source": [
    "## Plotting the experimental data \n",
    "\n",
    "Extract and plot the X-axis and signal data for the 4th scan knowing that one is stored at `measurement/hdh_energy` and the other is at `measurement/det_dtc_apd`."
   ]
  },
  {
   "cell_type": "code",
   "execution_count": null,
   "id": "2dbe4ed1-ad6a-4b83-8e54-c86565eec455",
   "metadata": {},
   "outputs": [],
   "source": [
    "fig, ax = plt.subplots()\n",
    "\n",
    "with silx.io.h5py_utils.File(filename) as sf:\n",
    "    ##################\n",
    "    # YOUR CODE HERE #\n",
    "    x = sf[f\"4.1/measurement/hdh_energy\"][()]\n",
    "    signal = sf[f\"4.1/measurement/det_dtc_apd\"][()]\n",
    "    ##################\n",
    "    ax.plot(x, signal)"
   ]
  },
  {
   "cell_type": "markdown",
   "id": "6b8b9827-271c-4e54-ac9f-1ce11092c8a1",
   "metadata": {},
   "source": [
    "That was quite some work just to be able to plot one scan. However, now you can easily plot multiple scans at the same time. Plot the scans 4 to 10."
   ]
  },
  {
   "cell_type": "code",
   "execution_count": null,
   "id": "d312842a-96b3-461f-9297-ab6e4cbd6b80",
   "metadata": {},
   "outputs": [],
   "source": [
    "fig, ax = plt.subplots()\n",
    "\n",
    "with silx.io.h5py_utils.File(filename) as sf:  \n",
    "    # Loop over the scans.\n",
    "    for scan_id in range(4, 11):\n",
    "        scan_name = f\"{scan_id}.1\"\n",
    "        x = sf[f\"{scan_name}/measurement/hdh_energy\"][()]\n",
    "        signal = sf[f\"{scan_name}/measurement/det_dtc_apd\"][()]\n",
    "        ax.plot(x, signal, label=f\"{scan_id}\")\n",
    "ax.legend()"
   ]
  },
  {
   "cell_type": "markdown",
   "id": "42383c69-4c78-426c-b2cb-bebb5bc71786",
   "metadata": {},
   "source": [
    "## Normalizing the signal data using information from additional counters\n",
    "\n",
    "You can use additional counters stored in the HDF5 file to assess the properties of the X-ray beam. One such counter is the `I02`, which measures the current right before the sample. Extract it from the HDF5 file and plot it."
   ]
  },
  {
   "cell_type": "code",
   "execution_count": null,
   "id": "160b5714",
   "metadata": {},
   "outputs": [],
   "source": [
    "fig, ax = plt.subplots()  \n",
    "with silx.io.h5py_utils.File(filename) as sf:  \n",
    "    for scan_id in range(4, 11):\n",
    "        scan_name = f\"{scan_id}.1\"\n",
    "        ##################\n",
    "        # YOUR CODE HERE #\n",
    "        monitor = sf[f\"{scan_name}/measurement/I02\"][()]\n",
    "        ##################\n",
    "        ax.plot(monitor, label=f\"{scan_id}\")\n",
    "ax.legend()"
   ]
  },
  {
   "cell_type": "markdown",
   "id": "29f5436d",
   "metadata": {},
   "source": [
    "Notice that the intensity of the `I02` counter changes during the scan, which will affect the signal. Use the `I02` data to normalize the signal and plot the result. Compare the plot with the one without normalization."
   ]
  },
  {
   "cell_type": "code",
   "execution_count": null,
   "id": "ffd09000-861d-47ac-85c4-442d016e20e0",
   "metadata": {},
   "outputs": [],
   "source": [
    "fig, ax = plt.subplots() \n",
    "with silx.io.h5py_utils.File(filename) as sf:\n",
    "    for scan_id in range(4, 11):\n",
    "        scan_name = f\"{scan_id}.1\"\n",
    "        x = sf[f\"{scan_name}/measurement/hdh_energy\"][()]\n",
    "        signal = sf[f\"{scan_name}/measurement/det_dtc_apd\"][()]\n",
    "        monitor = sf[f\"{scan_name}/measurement/I02\"][()]\n",
    "        # Normalize the signal with the monitor.\n",
    "        ##################\n",
    "        # YOUR CODE HERE #\n",
    "        signal = signal / monitor\n",
    "        ##################\n",
    "        ax.plot(x, signal, label=f\"{scan_id}\")\n",
    "ax.legend()"
   ]
  },
  {
   "cell_type": "markdown",
   "id": "5cfc2053-3198-4778-be35-870c3ab086a4",
   "metadata": {},
   "source": [
    "Now you can average the data from the individual scans to improve the signal-to-noise ratio (SNR). You can do this in two ways, either using:\n",
    "\n",
    "fraction of sums: $I_S = \\frac{I_{S,1}(E)\\ +\\ I_{S,2}(E)\\ +\\ \\cdots}{I_{M,1}(E)\\ +\\ I_{M,2}(E)\\ +\\ \\cdots}$ (this may not correct well for instabilities in $I_M$), or\n",
    "\n",
    "sum of fractions: $I_S = \\frac{I_{S,1}(E)}{I_{M,1}(E)} + \\frac{I_{S,2}(E)}{I_{M,2}(E)} + \\cdots$ (this may not give the correct statistical weight between scans and lose the total counts)."
   ]
  },
  {
   "cell_type": "code",
   "execution_count": null,
   "id": "35b0935f",
   "metadata": {},
   "outputs": [],
   "source": [
    "fig, ax = plt.subplots() \n",
    "\n",
    "signal_fos = None\n",
    "monitor_fos = None\n",
    "\n",
    "signal_sof = None\n",
    "\n",
    "with silx.io.h5py_utils.File(filename) as sf:\n",
    "    for i, scan_id in enumerate(range(4, 11)):\n",
    "        scan_name = f\"{scan_id}.1\"\n",
    "        \n",
    "        # Access the data from the file\n",
    "        x = sf[f\"{scan_name}/measurement/hdh_energy\"][()]\n",
    "        signal = sf[f\"{scan_name}/measurement/det_dtc_apd\"][()]\n",
    "        monitor = sf[f\"{scan_name}/measurement/I02\"][()]\n",
    "        \n",
    "        # Initialize the arrays holding the aggregated data.\n",
    "        if signal_fos is None:\n",
    "            signal_fos = np.zeros_like(signal)\n",
    "        if monitor_fos is None:\n",
    "            monitor_fos = np.zeros_like(signal)\n",
    "        if signal_sof is None:\n",
    "            signal_sof = np.zeros_like(signal)\n",
    "        \n",
    "        # Acumulate the scan data for the fraction of sums.\n",
    "        signal_fos += signal \n",
    "        monitor_fos += monitor\n",
    "        \n",
    "        # Accumulate the scan data for the sum of fractions.\n",
    "        ##################\n",
    "        # YOUR CODE HERE #\n",
    "        signal_sof += signal / monitor\n",
    "        ##################\n",
    "\n",
    "# Calculate the final signal for the fraction of sums method.\n",
    "signal_fos = signal_fos / monitor_fos\n",
    "        \n",
    "    \n",
    "ax.plot(x, signal_fos, label=\"Fraction of sums\")\n",
    "ax.plot(x, signal_sof, label=\"Sum of fractions\")\n",
    "ax.legend()"
   ]
  },
  {
   "cell_type": "markdown",
   "id": "931c9d55",
   "metadata": {},
   "source": [
    "## Does the final spectra depend on the aggregation procedure?\n",
    "\n",
    "The final signal seems to depend on how you sum up the data from the individual scans. To check if the spectra are different, normalize them to the maximum intensity and plot the difference."
   ]
  },
  {
   "cell_type": "code",
   "execution_count": null,
   "id": "9b02aa70",
   "metadata": {},
   "outputs": [],
   "source": [
    "fig, ax = plt.subplots(2, 1, figsize=(6, 6.8)) \n",
    "\n",
    "ax1, ax2 = ax\n",
    "\n",
    "# Normalize the two signals to have a maximum of one.\n",
    "##################\n",
    "# YOUR CODE HERE #\n",
    "signal_fos = signal_fos / signal_fos.max()\n",
    "signal_sof = signal_sof / signal_sof.max()\n",
    "##################\n",
    "\n",
    "ax1.plot(x, signal_fos, label=\"Fraction of sums\")\n",
    "ax1.plot(x, signal_sof, label=\"Sum of fractions\")\n",
    "\n",
    "ax2.plot(x, signal_fos - signal_sof, label = \"Difference\")\n",
    "\n",
    "ax1.legend()\n",
    "ax2.legend()\n",
    "plt.tight_layout()"
   ]
  },
  {
   "cell_type": "markdown",
   "id": "ce9015d5",
   "metadata": {},
   "source": [
    "## Redoing it all using the `daxs` library"
   ]
  },
  {
   "cell_type": "code",
   "execution_count": null,
   "id": "5d76d632",
   "metadata": {},
   "outputs": [],
   "source": [
    "from daxs.measurements import Hdf5Source, Xas\n",
    "\n",
    "logging.basicConfig(level=logging.INFO, stream=sys.stdout)\n",
    "logging.getLogger(\"daxs\").setLevel(logging.INFO)"
   ]
  },
  {
   "cell_type": "markdown",
   "id": "8f7a9243",
   "metadata": {},
   "source": [
    "## Define the data source, create the measurement, and plot the average signal"
   ]
  },
  {
   "cell_type": "code",
   "execution_count": null,
   "id": "8034c517",
   "metadata": {},
   "outputs": [],
   "source": [
    "filename = \"experimental_data/ihch1515/id26/Cr2O3_new/Cr2O3_new_0002/Cr2O3_new_0002.h5\"\n",
    "included_scans = \"4-10\"\n",
    "data_mappings = {\"x\": \".1/measurement/hdh_energy\", \"signal\": \".1/measurement/det_dtc_apd\", \"monitor\": \".1/measurement/I02\"}\n",
    "\n",
    "source = Hdf5Source(filename, included_scans, data_mappings=data_mappings)\n",
    "measurement = Xas(source)\n",
    "\n",
    "fig, ax = plt.subplots()\n",
    "\n",
    "ax.plot(measurement.x, measurement.signal)\n",
    "\n",
    "ax.set_xlabel(\"Incident energy (keV)\")\n",
    "ax.set_ylabel(\"Intensity (arb. units)\")\n",
    "\n",
    "plt.tight_layout()"
   ]
  },
  {
   "cell_type": "markdown",
   "id": "e42793e8",
   "metadata": {},
   "source": [
    "## Explore the different aggregation methods"
   ]
  },
  {
   "cell_type": "code",
   "execution_count": null,
   "id": "95922c2f",
   "metadata": {},
   "outputs": [],
   "source": [
    "fig, ax = plt.subplots()\n",
    "\n",
    "ax.plot(measurement.x, measurement.signal, label=\"Fraction of sums\")\n",
    "\n",
    "measurement.reset()\n",
    "measurement.process(aggregation=\"sum of fractions\")\n",
    "ax.plot(measurement.x, measurement.signal, label=\"Sum of fractions\")\n",
    "\n",
    "ax.legend()\n",
    "ax.set_xlabel(\"Incident energy (keV)\")\n",
    "ax.set_ylabel(\"Intensity (arb. units)\")\n",
    "\n",
    "plt.tight_layout()"
   ]
  },
  {
   "cell_type": "markdown",
   "id": "1c8b2171",
   "metadata": {},
   "source": [
    "## Normalize the data using the signal area"
   ]
  },
  {
   "cell_type": "code",
   "execution_count": null,
   "id": "bdbcb571",
   "metadata": {},
   "outputs": [],
   "source": [
    "fig, (ax1, ax2) = plt.subplots(2, 1, gridspec_kw={\"height_ratios\": [3, 1]})\n",
    "\n",
    "measurement.reset()\n",
    "measurement.process(aggregation=\"fraction of sums\", normalization=\"area\")\n",
    "ax1.plot(measurement.x, measurement.signal, label=\"Fraction of sums\")\n",
    "\n",
    "# Save the data for the calculation of the difference signal.\n",
    "x = np.copy(measurement.x)\n",
    "signal_fos = np.copy(measurement.signal)\n",
    "\n",
    "measurement.reset()\n",
    "measurement.process(aggregation=\"sum of fractions\", normalization=\"area\")\n",
    "ax1.plot(measurement.x, measurement.signal, label=\"Sum of fractions\")\n",
    "\n",
    "# Save the data for the calculation of the difference signal.\n",
    "signal_sof = np.copy(measurement.signal)\n",
    "\n",
    "ax1.legend()\n",
    "ax1.set_xlabel(\"Incident energy (keV)\")\n",
    "ax1.set_ylabel(\"Intensity (arb. units)\")\n",
    "\n",
    "# Plot the difference of the two signals.\n",
    "ax2.plot(x, signal_fos - signal_sof)\n",
    "\n",
    "plt.tight_layout()"
   ]
  }
 ],
 "metadata": {
  "kernelspec": {
   "display_name": "Python 3 (ipykernel)",
   "language": "python",
   "name": "python3"
  },
  "language_info": {
   "codemirror_mode": {
    "name": "ipython",
    "version": 3
   },
   "file_extension": ".py",
   "mimetype": "text/x-python",
   "name": "python",
   "nbconvert_exporter": "python",
   "pygments_lexer": "ipython3",
   "version": "3.9.14"
  }
 },
 "nbformat": 4,
 "nbformat_minor": 5
}
