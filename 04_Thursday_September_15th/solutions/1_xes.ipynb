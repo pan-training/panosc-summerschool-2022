{
 "cells": [
  {
   "cell_type": "markdown",
   "metadata": {},
   "source": [
    "# X-ray emission spectrscopy (XES)\n",
    "\n",
    "\n",
    "In this exercise, you will use emission data measured on Cr<sub>2</sub>O<sub>3</sub>. The first steps are the same as in the case of the XAS data reduction, i.e. locate the data on disk and visualize it. The particularity of this data reduction, is that the final spectrum will be reconstructed from three scans performed using different energy steps.\n",
    "\n",
    "<figure>\n",
    "  <img src=\"assets/xes.png\" alt=\"XAS\" style=\"width:60%\">\n",
    "  <figcaption style=\"text-align: center; font-style: italic\">J.K. Kowalska et al., Israel Journal of Chemistry 56, 803 (2016).</figcaption>\n",
    "</figure>"
   ]
  },
  {
   "cell_type": "markdown",
   "metadata": {},
   "source": [
    "## Import the required packages"
   ]
  },
  {
   "cell_type": "code",
   "execution_count": null,
   "metadata": {},
   "outputs": [],
   "source": [
    "%matplotlib ipympl\n",
    "\n",
    "import sys\n",
    "import logging\n",
    "\n",
    "import numpy as np\n",
    "import matplotlib.pyplot as plt\n",
    "import silx.io.h5py_utils\n",
    "\n",
    "plt.rcParams[\"figure.figsize\"] = (6, 3.4)"
   ]
  },
  {
   "cell_type": "markdown",
   "metadata": {},
   "source": [
    "## Accessing the data\n",
    "\n",
    "As you did in the XAS exercise, you must first locate the data on disk and load the information from various counters. For XES, the data is stored in the same file as before, but the energy counter, i.e., the X-axis, changes and is now `xes_en`. The signal and the monitor remain as before.\n",
    "\n",
    "Load and plot the data from scans 4, 5, and 6."
   ]
  },
  {
   "cell_type": "code",
   "execution_count": null,
   "metadata": {},
   "outputs": [],
   "source": [
    "filename = \"experimental_data/ihch1515/id26/Cr2O3_new/Cr2O3_new_0003/Cr2O3_new_0003.h5\"\n",
    "\n",
    "# Define a list for the scan indices.\n",
    "##################\n",
    "# YOUR CODE HERE #\n",
    "scan_ids = [4, 5, 6]\n",
    "##################\n",
    "\n",
    "fig, ax = plt.subplots()\n",
    "\n",
    "with silx.io.h5py_utils.File(filename) as sf:\n",
    "    for scan_id in scan_ids:\n",
    "        scan_name = f\"{scan_id}.1\"\n",
    "        x = sf[f\"{scan_name}/measurement/xes_en\"][()]\n",
    "        signal = sf[f\"{scan_name}/measurement/det_dtc_apd\"][()]\n",
    "        monitor = sf[f\"{scan_name}/measurement/I02\"][()]\n",
    "        ax.plot(x, signal / monitor, \".\", label=f\"{scan_id}\")\n",
    "ax.legend()"
   ]
  },
  {
   "cell_type": "markdown",
   "metadata": {},
   "source": [
    "## Merging the spectra\n",
    "\n",
    "Notice that, in this case, the signals appear at different energy positions. Because the XES measurements can have long acquisition times, it is common to sample regions of the spectrum differently. \n",
    "\n",
    "Start by storing the needed arrays in a list to avoid always reading them from the HDF5 file. "
   ]
  },
  {
   "cell_type": "code",
   "execution_count": null,
   "metadata": {},
   "outputs": [],
   "source": [
    "scans = []\n",
    "with silx.io.h5py_utils.File(filename) as sf:\n",
    "    for scan_id in scan_ids:\n",
    "        scan_name = f\"{scan_id}.1\"\n",
    "        x = sf[f\"{scan_name}/measurement/xes_en\"][()]\n",
    "        signal = sf[f\"{scan_name}/measurement/det_dtc_apd\"][()]\n",
    "        monitor = sf[f\"{scan_name}/measurement/I02\"][()]\n",
    "        scans.append([x, signal, monitor])        "
   ]
  },
  {
   "cell_type": "markdown",
   "metadata": {},
   "source": [
    "Create temporary containers to hold the x, signal, and monitor data from the three scans."
   ]
  },
  {
   "cell_type": "code",
   "execution_count": null,
   "metadata": {},
   "outputs": [],
   "source": [
    "x_tmp, signal_tmp, monitor_tmp = [], [], []\n",
    "\n",
    "for x, signal, monitor in scans:\n",
    "    x_tmp.extend(x)\n",
    "    signal_tmp.extend(signal)\n",
    "    monitor_tmp.extend(monitor)"
   ]
  },
  {
   "cell_type": "markdown",
   "metadata": {},
   "source": [
    "Find the limits and step size of the new X-axis."
   ]
  },
  {
   "cell_type": "code",
   "execution_count": null,
   "metadata": {},
   "outputs": [],
   "source": [
    "xmin, xmax = np.inf, -np.inf\n",
    "for x, signal, monitor in scans:\n",
    "    x = np.sort(x)\n",
    "    # Calculate the new values for the xmin and xmax.\n",
    "    ##################\n",
    "    # YOUR CODE HERE #    \n",
    "    xmin = min(xmin, x.min())\n",
    "    xmax = max(xmax, x.max())\n",
    "    ##################\n",
    "    xstep = min(np.diff(x))"
   ]
  },
  {
   "cell_type": "markdown",
   "metadata": {},
   "source": [
    "Create the new X-axis array using the `np.arange` function. You can check the function documentation using `np.arange?`."
   ]
  },
  {
   "cell_type": "code",
   "execution_count": null,
   "metadata": {},
   "outputs": [],
   "source": [
    "##################\n",
    "# YOUR CODE HERE # \n",
    "xn = np.arange(xmin, xmax, xstep)\n",
    "##################\n",
    "# Print the first 5 elements of the array.\n",
    "print(xn[:5])"
   ]
  },
  {
   "cell_type": "markdown",
   "metadata": {},
   "source": [
    "Calculate and plot the merged signal."
   ]
  },
  {
   "cell_type": "code",
   "execution_count": null,
   "metadata": {},
   "outputs": [],
   "source": [
    "# Convert the temporary lists to Numpy arrays.\n",
    "x = np.array(x_tmp)\n",
    "signal = np.array(signal_tmp)\n",
    "monitor = np.array(monitor_tmp)\n",
    "\n",
    "# Find the indices that sort the x values.\n",
    "ids = np.argsort(x_tmp)\n",
    "\n",
    "# Sort all arrays using these indices. The interpolation \n",
    "# can be wrong if the the arrays are not sorted.\n",
    "x = x[ids]\n",
    "singal = signal[ids]\n",
    "monitor = monitor[ids]\n",
    "\n",
    "# Normalize with the monitor and interpolate the resulting signal.\n",
    "##################\n",
    "# YOUR CODE HERE # \n",
    "signal = signal / monitor\n",
    "signal = np.interp(xn, x, signal)\n",
    "##################\n",
    "\n",
    "# Plot the merged signal.\n",
    "fig, ax = plt.subplots(figsize=(6, 3.4))  \n",
    "ax.plot(xn, signal)"
   ]
  },
  {
   "cell_type": "markdown",
   "metadata": {},
   "source": [
    "## Plot the data with log scaling on the Y-axis\n",
    "\n",
    "Look for the plotting function in the Matplotlib library."
   ]
  },
  {
   "cell_type": "code",
   "execution_count": null,
   "metadata": {},
   "outputs": [],
   "source": [
    "fig, ax = plt.subplots(figsize=(7, 3.2))\n",
    "\n",
    "##################\n",
    "# YOUR CODE HERE # \n",
    "ax.semilogy(xn, signal, \"k-\")    \n",
    "##################\n",
    "\n",
    "ax.set_xlabel(\"Emission energy (eV)\")\n",
    "ax.set_ylabel(\"Intensity (arb. units)\")\n",
    "\n",
    "plt.tight_layout()"
   ]
  },
  {
   "cell_type": "markdown",
   "metadata": {},
   "source": [
    "## Background subtraction for the valence-to-core (vtc) XES\n",
    "\n",
    "<figure>\n",
    "  <img src=\"assets/xes_semilogy.png\" alt=\"XES semilog Y-axis\" style=\"width:60%\">\n",
    "  <figcaption style=\"text-align: center; font-style: italic\">E. Gallo and P. Glatzel, Advanced Materials 26, 7730 (2014).</figcaption>\n",
    "</figure>"
   ]
  }
 ],
 "metadata": {
  "kernelspec": {
   "display_name": "Python 3 (ipykernel)",
   "language": "python",
   "name": "python3"
  },
  "language_info": {
   "codemirror_mode": {
    "name": "ipython",
    "version": 3
   },
   "file_extension": ".py",
   "mimetype": "text/x-python",
   "name": "python",
   "nbconvert_exporter": "python",
   "pygments_lexer": "ipython3",
   "version": "3.9.14"
  }
 },
 "nbformat": 4,
 "nbformat_minor": 4
}
