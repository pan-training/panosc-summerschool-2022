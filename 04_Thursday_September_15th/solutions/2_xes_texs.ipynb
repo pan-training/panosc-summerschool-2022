{
 "cells": [
  {
   "cell_type": "markdown",
   "id": "b2b72942",
   "metadata": {},
   "source": [
    "# X-ray emission measurements using the tender X-ray emission spectrometer (TEXS)\n",
    "\n",
    "In this exercise, you will use data measured using the TEXS from ID26. A particularity regarding data analyisys, is that the signal of each scan must be reconstructed from the individual signals of the 11 crystal analyzers. Also, the individual signals can present spikes due to cosmic rays, which must be removed. The measurments are for an IrRu(Ti) alloy.\n",
    "\n",
    "<figure>\n",
    "  <img src=\"assets/texs.png\" alt=\"TEXS\" style=\"width:70%\">\n",
    "  <img src=\"assets/texs_crystal_analyzers.png\" alt=\"TEXS\" style=\"width:37%\">\n",
    "  <figcaption style=\"text-align: center; font-style: italic\">M. Rovezzi et al., J Synchrotron Rad 27, 813 (2020).</figcaption>\n",
    "</figure>"
   ]
  },
  {
   "cell_type": "markdown",
   "id": "19f1c760",
   "metadata": {},
   "source": [
    "## Import the required packages"
   ]
  },
  {
   "cell_type": "code",
   "execution_count": null,
   "id": "58a0aca7",
   "metadata": {},
   "outputs": [],
   "source": [
    "%matplotlib ipympl\n",
    "\n",
    "import sys\n",
    "import logging\n",
    "\n",
    "import numpy as np\n",
    "import matplotlib.pyplot as plt\n",
    "import silx.io.h5py_utils\n",
    "\n",
    "from daxs.filters import hampel\n",
    "\n",
    "plt.rcParams[\"figure.figsize\"] = (6, 3.4)"
   ]
  },
  {
   "cell_type": "markdown",
   "id": "92530e8b",
   "metadata": {},
   "source": [
    "## Read the data\n",
    "\n",
    "Start by reading the data from the HDF5 file. Note that there are multiple counters for the signal, each corresponding to the individual crystal analyzers."
   ]
  },
  {
   "cell_type": "code",
   "execution_count": null,
   "id": "135f7bd3",
   "metadata": {},
   "outputs": [],
   "source": [
    "filename = \"experimental_data/ihma176/id26/Ir47Ru46Ti7_AP/Ir47Ru46Ti7_AP_La_VtC/Ir47Ru46Ti7_AP_La_VtC.h5\"\n",
    "\n",
    "counters = {\n",
    "    \"x\": \"xes_en_texs\",\n",
    "    \"signal\": [\"g02\", \"g03\", \"g04\", \"g05\", \"g06\", \"g07\", \"g11\", \"g12\", \"g13\", \"g14\"],\n",
    "    \"monitor\": \"I0t\" \n",
    "}\n",
    "\n",
    "scan_name = \"2.1\"\n",
    "\n",
    "signals = []\n",
    "with silx.io.h5py_utils.File(filename) as sf:\n",
    "    x = sf[f\"{scan_name}/measurement/{counters['x']}\"][()]\n",
    "    for counter in counters[\"signal\"]:\n",
    "        signals.append(sf[f\"{scan_name}/measurement/{counter}\"][()])\n",
    "    monitor = sf[f\"{scan_name}/measurement/{counters['monitor']}\"][()]"
   ]
  },
  {
   "cell_type": "markdown",
   "id": "5449b9cf",
   "metadata": {},
   "source": [
    "## Plot the data from the crystal analyzers\n",
    "\n",
    "Iterate over the signals and plot them. Add the counter name of the signals to the legend."
   ]
  },
  {
   "cell_type": "code",
   "execution_count": null,
   "id": "24f71a88",
   "metadata": {},
   "outputs": [],
   "source": [
    "fig, ax = plt.subplots()\n",
    "\n",
    "for i, signal in enumerate(signals):\n",
    "    ##################\n",
    "    # YOUR CODE HERE # \n",
    "    counter = counters[\"signal\"][i]\n",
    "    ax.plot(x, signal, label=f\"{counter}\")\n",
    "    ##################\n",
    "ax.legend()"
   ]
  },
  {
   "cell_type": "markdown",
   "id": "ca696fe8",
   "metadata": {},
   "source": [
    "## Detect and plot the outliers \n",
    "\n",
    "Use the Hampel filter implemented in the `daxs` library to detect the outliers in the signal. You can find more information about it using `hampel?`."
   ]
  },
  {
   "cell_type": "code",
   "execution_count": null,
   "id": "786d9301",
   "metadata": {},
   "outputs": [],
   "source": [
    "fig, ax = plt.subplots()\n",
    "\n",
    "for i, signal in enumerate(signals):\n",
    "    counter = counters[\"signal\"][i]\n",
    "    ids, medians = hampel(signal, window_size=5, threshold=3)\n",
    "    ax.plot(x, signal, label=f\"{counter}\")\n",
    "    ax.plot(x[ids], signal[ids], 'k.')\n",
    "    \n",
    "ax.legend()"
   ]
  },
  {
   "cell_type": "markdown",
   "id": "139cd9b8",
   "metadata": {},
   "source": [
    "Find the optimal parameters for the threshold and size of the sliding window to select only the \"real\" outliers. Once satisfied with the selection, substitute each outlier with the median value calculated at that point. Use the `np.where` function for this."
   ]
  },
  {
   "cell_type": "code",
   "execution_count": null,
   "id": "13209f00",
   "metadata": {},
   "outputs": [],
   "source": [
    "fig, ax = plt.subplots()\n",
    "\n",
    "filtered_signals = []\n",
    "\n",
    "for i, signal in enumerate(signals):\n",
    "    counter = counters[\"signal\"][i]\n",
    "    ##################\n",
    "    # YOUR CODE HERE #     \n",
    "    ids, medians = hampel(signal, window_size=11, threshold=7)\n",
    "    signal = np.where(ids, medians, signal)\n",
    "    ##################\n",
    "    filtered_signals.append(signal)    \n",
    "    ax.plot(x, signal, label=f\"{counter}\")\n",
    "    \n",
    "ax.legend()"
   ]
  },
  {
   "cell_type": "markdown",
   "id": "6f6a952e",
   "metadata": {},
   "source": [
    "## Plot the mean filtered signal\n",
    "\n",
    "Try to achieve this without looping over the `filtered_signals` list. Instead convert it to a Numpy array and use the `np.mean` function to sum along the rows."
   ]
  },
  {
   "cell_type": "code",
   "execution_count": null,
   "id": "a85f1324",
   "metadata": {},
   "outputs": [],
   "source": [
    "filtered_signals = np.array(filtered_signals)\n",
    "print(filtered_signals.shape)\n",
    "\n",
    "# Calculate the mean of the filtered signal.\n",
    "##################\n",
    "# YOUR CODE HERE # \n",
    "mean_filtered_signal = np.mean(filtered_signals, axis=0)\n",
    "##################\n",
    "\n",
    "fig, ax = plt.subplots()\n",
    "ax.plot(x, mean_filtered_signal / monitor)"
   ]
  }
 ],
 "metadata": {
  "kernelspec": {
   "display_name": "Python 3 (ipykernel)",
   "language": "python",
   "name": "python3"
  },
  "language_info": {
   "codemirror_mode": {
    "name": "ipython",
    "version": 3
   },
   "file_extension": ".py",
   "mimetype": "text/x-python",
   "name": "python",
   "nbconvert_exporter": "python",
   "pygments_lexer": "ipython3",
   "version": "3.9.14"
  }
 },
 "nbformat": 4,
 "nbformat_minor": 5
}
