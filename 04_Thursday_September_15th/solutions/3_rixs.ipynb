{
 "cells": [
  {
   "cell_type": "markdown",
   "id": "9160b802",
   "metadata": {},
   "source": [
    "# Resonant inelastic X-ray scattering (RIXS) \n",
    "\n",
    "In this exercise, you will analyze a RIXS measurement for Ni MOF. RIXS, also known as resonant X-ray emission spectroscopy (RXES), is a photon-in/photon-out experiment. The incident energy Ω is scanned across an absorption edge. The emitted energy ω is also scanned either over the fluorescence lines or over energies just below the elastically scattered peak. In the latter case, the energy transfer Ω-ω becomes small (on the order of a few eV), and valence band excitations are observed.\n",
    "\n",
    "<figure>\n",
    "  <img src=\"assets/rixs.png\" alt=\"XAS\" style=\"width:40%\">\n",
    "  <figcaption style=\"text-align: center; font-style: italic\">P. Glatzel et al., The European Physical Journal Special Topics 169, 207 (2009).\n",
    "</figcaption>\n",
    "</figure>\n",
    "\n",
    "The RIXS plane (bottom left) is based on the above energy diagram and corresponding line plots. The lifetime broadenings for the intermediate state and final state are shown as straight lines in the plane. Line plots are shown at constant incident energy (bottom right) and constant final state energy or constant energy transfer (top left). A diagonal line through the RIXS plane (dashed) corresponds to a scan of the incident energy at fixed emission energy (HERFD). \n",
    "\n",
    "<figure>\n",
    "  <img src=\"assets/rixs_plane.png\" alt=\"XAS\" style=\"width:60%\">\n",
    "  <figcaption style=\"text-align: center; font-style: italic\">P. Glatzel et al., The European Physical Journal Special Topics 169, 207 (2009).\n",
    "</figcaption>\n",
    "</figure>"
   ]
  },
  {
   "cell_type": "markdown",
   "id": "8ba20de5",
   "metadata": {},
   "source": [
    "# Import the required packages"
   ]
  },
  {
   "cell_type": "code",
   "execution_count": null,
   "id": "3e280904",
   "metadata": {},
   "outputs": [],
   "source": [
    "%matplotlib ipympl\n",
    "\n",
    "import sys\n",
    "import logging\n",
    "\n",
    "import numpy as np\n",
    "import scipy\n",
    "import matplotlib.pyplot as plt\n",
    "import silx.io.h5py_utils"
   ]
  },
  {
   "cell_type": "markdown",
   "id": "2768083d",
   "metadata": {},
   "source": [
    "## Load the experimental data\n",
    "\n",
    "Below you will find the filename and the counters/positioners for the RIXS measurement. As before, the file is already stored on the local disk, but you can also download it from the ESRF data portal (https://data.esrf.fr/public/10.15151/ESRF-DC-924121042, `Sami_Ni_MOF_RIXS_cc`, `Ka1`). Contrary to what you did until now, you will need to construct the RIXS plane by stacking the individual scans; no more averaging. You need to include the scans 3 to 83.\n",
    "\n",
    "Start by creating a list with the scan indices."
   ]
  },
  {
   "cell_type": "code",
   "execution_count": null,
   "id": "8332f38f",
   "metadata": {},
   "outputs": [],
   "source": [
    "filename = \"experimental_data/ihch1527/id26/Sami_Ni_MOF_RIXS_cc/Sami_Ni_MOF_RIXS_cc_Ka1/Sami_Ni_MOF_RIXS_cc_Ka1.h5\"\n",
    "\n",
    "data_mappings = {\n",
    "    \"x\": \".1/measurement/hdh_energy\",\n",
    "    \"y\": \".1/instrument/positioners/xes_en\",\n",
    "    \"signal\": \".1/measurement/det_dtc_apd\", \n",
    "    \"monitor\": \".1/measurement/I02\",\n",
    "}\n",
    "\n",
    "# Create a list with the scan indices.\n",
    "##################\n",
    "# YOUR CODE HERE # \n",
    "scans_ids = list(range(3, 84))\n",
    "##################"
   ]
  },
  {
   "cell_type": "markdown",
   "id": "abc732da",
   "metadata": {},
   "source": [
    "Loop over the scans and add the data to lists."
   ]
  },
  {
   "cell_type": "code",
   "execution_count": null,
   "id": "60c44f8f",
   "metadata": {},
   "outputs": [],
   "source": [
    "x, y, signal, monitor = [], [], [], []\n",
    "\n",
    "with silx.io.h5py_utils.File(filename) as sf:\n",
    "    for scan_id in scans_ids:\n",
    "        x_scan = sf[f\"{scan_id}{data_mappings['x']}\"][()]\n",
    "        signal_scan = sf[f\"{scan_id}{data_mappings['signal']}\"][()]\n",
    "        monitor_scan = sf[f\"{scan_id}{data_mappings['monitor']}\"][()]\n",
    "        \n",
    "        x.extend(x_scan)\n",
    "        signal.extend(signal_scan)\n",
    "        monitor.extend(monitor_scan)\n",
    "        \n",
    "        # Make the y array by repeating the value n times, where n\n",
    "        # is the size of the x array.\n",
    "        ##################\n",
    "        # YOUR CODE HERE #         \n",
    "        y_value = sf[f\"{scan_id}{data_mappings['y']}\"][()]\n",
    "        y.extend(y_value * np.ones_like(x_scan))        \n",
    "        ##################"
   ]
  },
  {
   "cell_type": "markdown",
   "id": "fb9344bf",
   "metadata": {},
   "source": [
    "Convert the lists to Numpy arrays."
   ]
  },
  {
   "cell_type": "code",
   "execution_count": null,
   "id": "2a38ad63",
   "metadata": {},
   "outputs": [],
   "source": [
    "x = np.array(x)\n",
    "y = np.array(y)\n",
    "signal = np.array(signal)\n",
    "monitor = np.array(monitor)"
   ]
  },
  {
   "cell_type": "markdown",
   "id": "fd4f5af9",
   "metadata": {},
   "source": [
    "## A note on plotting 2D data\n",
    "\n",
    "Matplotlib offers two functions to plot 2D data. Change the function parameters to assess their effects on the plot."
   ]
  },
  {
   "cell_type": "code",
   "execution_count": null,
   "id": "b6f0f62d",
   "metadata": {},
   "outputs": [],
   "source": [
    "fig, (ax1, ax2) = plt.subplots(1, 2, figsize=(7.8, 4.5), sharey=True)\n",
    "\n",
    "# Plot using tricontourf.\n",
    "levels = 11\n",
    "ax1.tricontourf(x, y, signal, levels=levels)\n",
    "ax1.set_xlabel(\"Incident energy (keV)\")\n",
    "ax1.set_ylabel(\"Emission energy (keV)\")\n",
    "ax1.set_title(\"Using tricontourf\")\n",
    "\n",
    "# Plot using imshow. The data needs to be reshaped.\n",
    "nscans = 81\n",
    "npoints_per_scan = 66\n",
    "signal_reshaped = signal.reshape((nscans, npoints_per_scan))\n",
    "\n",
    "# https://matplotlib.org/stable/gallery/images_contours_and_fields/interpolation_methods.html\n",
    "interpolation = \"bilinear\"\n",
    "extent = [x.min(), x.max(), y.min(), y.max()]\n",
    "ax2.imshow(\n",
    "    signal_reshaped,\n",
    "    origin=\"lower\",\n",
    "    extent=extent,\n",
    "    aspect=\"auto\",\n",
    "    interpolation=interpolation,\n",
    ")\n",
    "ax2.set_xlabel(\"Incident energy (keV)\")\n",
    "ax2.set_title(\"Using imshow\")\n",
    "plt.tight_layout()"
   ]
  },
  {
   "cell_type": "markdown",
   "id": "f26a1f59",
   "metadata": {},
   "source": [
    "## Emission energy vs energy transfer plots\n",
    "\n",
    "RIXS planes are usually plotted using energy transfer on the Y-axis, which is defined as the difference between the incident and the emission energies. Plot the two repesentations."
   ]
  },
  {
   "cell_type": "code",
   "execution_count": null,
   "id": "df8251d2",
   "metadata": {},
   "outputs": [],
   "source": [
    "fig, (ax1, ax2) = plt.subplots(1, 2, figsize=(8, 4.5))\n",
    "\n",
    "# Plot the plane with the emission energy as Y-axis.\n",
    "ax1.tricontourf(x, y, signal, levels=levels)\n",
    "ax1.set_xlabel(\"Incident energy (keV)\")\n",
    "ax1.set_ylabel(\"Emission energy (keV)\")\n",
    "\n",
    "# Plot the plane with the energy transfer as the Y-axis.\n",
    "##################\n",
    "# YOUR CODE HERE # \n",
    "ax2.tricontourf(x, x - y, signal, levels=levels)\n",
    "##################\n",
    "ax2.set_xlabel(\"Incident energy (keV)\")\n",
    "ax2.set_ylabel(\"Energy transfer (keV)\")\n",
    "\n",
    "plt.tight_layout()"
   ]
  },
  {
   "cell_type": "markdown",
   "id": "3cefe28d",
   "metadata": {},
   "source": [
    "## Cut the RIXS plane\n",
    "\n",
    "To make things easier, you will use the `daxs` library to perform the cuts. Discuss a method that you can use to perform arbitrary cuts in a 2D image."
   ]
  },
  {
   "cell_type": "code",
   "execution_count": null,
   "id": "7fc558b5",
   "metadata": {},
   "outputs": [],
   "source": [
    "from daxs.measurements import Hdf5Source, Rixs\n",
    "\n",
    "source = Hdf5Source(filename=filename, included_scans=scans_ids, data_mappings=data_mappings)\n",
    "measurement = Rixs(source)"
   ]
  },
  {
   "cell_type": "code",
   "execution_count": null,
   "id": "708d424a",
   "metadata": {},
   "outputs": [],
   "source": [
    "measurement.cut(\"CEE\", energies=[7.4780, 7.4790, 7.4794])\n",
    "measurement.cut(\"CIE\", energies=[8.332])\n",
    "measurement.cut(\"CET\", energies=[0.8531])"
   ]
  },
  {
   "cell_type": "code",
   "execution_count": null,
   "id": "479f1201",
   "metadata": {},
   "outputs": [],
   "source": [
    "fig, (ax1, ax2) = plt.subplots(1, 2, figsize=(8.5, 4.5))\n",
    "\n",
    "ax1.tricontourf(measurement.x, measurement.y, measurement.signal, levels=levels)\n",
    "\n",
    "for label, (x, y, signal) in measurement.cuts.items():\n",
    "    if \"CIE\" in label:\n",
    "        continue\n",
    "        \n",
    "    ax1.plot(x, y)\n",
    "\n",
    "    ids = np.argsort(x)\n",
    "    x = x[ids]\n",
    "    y = y[ids]\n",
    "    signal = signal[ids]\n",
    "\n",
    "    ax2.plot(x, signal, label=label)\n",
    "\n",
    "ax1.set_xlabel(\"Incident energy (keV)\")\n",
    "ax1.set_ylabel(\"Energy transfer (keV)\")\n",
    "\n",
    "ax2.set_xlabel(\"Incident energy (keV)\")\n",
    "ax2.set_ylabel(\"Intensity (arb. units)\")\n",
    "\n",
    "ax2.legend() \n",
    "plt.tight_layout()"
   ]
  }
 ],
 "metadata": {
  "kernelspec": {
   "display_name": "Python 3 (ipykernel)",
   "language": "python",
   "name": "python3"
  },
  "language_info": {
   "codemirror_mode": {
    "name": "ipython",
    "version": 3
   },
   "file_extension": ".py",
   "mimetype": "text/x-python",
   "name": "python",
   "nbconvert_exporter": "python",
   "pygments_lexer": "ipython3",
   "version": "3.9.14"
  }
 },
 "nbformat": 4,
 "nbformat_minor": 5
}
